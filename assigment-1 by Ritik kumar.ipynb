{
 "cells": [
  {
   "cell_type": "markdown",
   "id": "8469619b",
   "metadata": {},
   "source": [
    "# Ques 1. Write code that uses iteration to print out the length of each element of the list stored in list.\n",
    "### list = [\"hello\", \"\", \"goodbye\", \"wonderful\", \"I love Python\"]"
   ]
  },
  {
   "cell_type": "code",
   "execution_count": 5,
   "id": "d98d57b8",
   "metadata": {},
   "outputs": [],
   "source": [
    "str_list = [\"hello\", \"\", \"goodbye\", \"wonderful\", \"I love Python\"]"
   ]
  },
  {
   "cell_type": "code",
   "execution_count": 6,
   "id": "56f0d0a3",
   "metadata": {},
   "outputs": [
    {
     "name": "stdout",
     "output_type": "stream",
     "text": [
      "5\n",
      "0\n",
      "7\n",
      "9\n",
      "13\n"
     ]
    }
   ],
   "source": [
    "for i in str_list:\n",
    "    print(len(i))"
   ]
  },
  {
   "cell_type": "markdown",
   "id": "0760304c",
   "metadata": {},
   "source": [
    "# Ques 2.  Write a Python program to count and display the vowels of a given text"
   ]
  },
  {
   "cell_type": "code",
   "execution_count": 7,
   "id": "e485d348",
   "metadata": {},
   "outputs": [
    {
     "name": "stdout",
     "output_type": "stream",
     "text": [
      "3\n",
      "['A', 'i', 'e']\n"
     ]
    }
   ],
   "source": [
    "def vowel(text):\n",
    "    vowels = \"aeiuoAEIOU\"\n",
    "    print(len([letter for letter in text if letter in vowels]))\n",
    "    print([letter for letter in text if letter in vowels])\n",
    "vowel('All with me');"
   ]
  },
  {
   "cell_type": "markdown",
   "id": "2bb1e85b",
   "metadata": {},
   "source": [
    "# Write code to create a list of numbers from 0 to 88 and assign that list to the variable nums. Do not hard code the list."
   ]
  },
  {
   "cell_type": "code",
   "execution_count": 13,
   "id": "a4ddbc8c",
   "metadata": {},
   "outputs": [],
   "source": [
    "nums = []\n",
    "\n",
    "for num in range(0,89):\n",
    "    nums.append(num)"
   ]
  },
  {
   "cell_type": "code",
   "execution_count": 14,
   "id": "aad6afe4",
   "metadata": {},
   "outputs": [
    {
     "name": "stdout",
     "output_type": "stream",
     "text": [
      "[0, 1, 2, 3, 4, 5, 6, 7, 8, 9, 10, 11, 12, 13, 14, 15, 16, 17, 18, 19, 20, 21, 22, 23, 24, 25, 26, 27, 28, 29, 30, 31, 32, 33, 34, 35, 36, 37, 38, 39, 40, 41, 42, 43, 44, 45, 46, 47, 48, 49, 50, 51, 52, 53, 54, 55, 56, 57, 58, 59, 60, 61, 62, 63, 64, 65, 66, 67, 68, 69, 70, 71, 72, 73, 74, 75, 76, 77, 78, 79, 80, 81, 82, 83, 84, 85, 86, 87, 88]\n"
     ]
    }
   ],
   "source": [
    "#print\n",
    "print (nums)"
   ]
  },
  {
   "cell_type": "markdown",
   "id": "7a07a2ad",
   "metadata": {},
   "source": [
    "# Ques 4. Addition is a string with a list of numbers separated by the + sign. Write code that uses the accumulation pattern to take the sum of all of the numbers and assigns it to sum_val (an integer). (You should use the .split(\"+\") function to split by \"+\" and int() to cast to an integer).¶\n",
    "Addition = \"2+5+10+20\""
   ]
  },
  {
   "cell_type": "code",
   "execution_count": 15,
   "id": "6595acd2",
   "metadata": {},
   "outputs": [],
   "source": [
    "addition_str = \"2+5+10+20\"\n",
    "b=addition_str.split(\"+\")\n",
    "sum_val=0"
   ]
  },
  {
   "cell_type": "code",
   "execution_count": 16,
   "id": "847dc4bd",
   "metadata": {},
   "outputs": [
    {
     "name": "stdout",
     "output_type": "stream",
     "text": [
      "37\n"
     ]
    }
   ],
   "source": [
    "for i in b:\n",
    "    sum_val+=int(i)\n",
    "print(sum_val)"
   ]
  }
 ],
 "metadata": {
  "kernelspec": {
   "display_name": "Python 3",
   "language": "python",
   "name": "python3"
  },
  "language_info": {
   "codemirror_mode": {
    "name": "ipython",
    "version": 3
   },
   "file_extension": ".py",
   "mimetype": "text/x-python",
   "name": "python",
   "nbconvert_exporter": "python",
   "pygments_lexer": "ipython3",
   "version": "3.8.8"
  }
 },
 "nbformat": 4,
 "nbformat_minor": 5
}
